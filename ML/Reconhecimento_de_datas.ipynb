{
 "cells": [
  {
   "cell_type": "code",
   "execution_count": null,
   "metadata": {},
   "outputs": [],
   "source": [
    "import pandas as pd\n",
    "from sklearn.model_selection import train_test_split\n",
    "from sklearn.metrics import accuracy_score\n",
    "from sklearn.preprocessing import LabelEncoder\n",
    "from sklearn.ensemble import RandomForestClassifier\n",
    "\n",
    "df = pd.read_excel('C:/Users/Enzo/Downloads/Trabalho/ArquivoFonte.xlsx')\n",
    "\n",
    "df = df.sort_values(by='Dia')\n",
    "\n",
    "df.head()\n"
   ]
  },
  {
   "cell_type": "code",
   "execution_count": null,
   "metadata": {},
   "outputs": [],
   "source": [
    "# converter em valores em coluna categórica\n",
    "encoders = {col: LabelEncoder() for col in [\"Disciplina\", \"Professor\", \"Semestre\", \"Dia da Semana\"]}\n",
    "\n",
    "# Aplicar encoding nas colunas categóricas\n",
    "for col, encoder in encoders.items():\n",
    "    df[col] = encoder.fit_transform(df[col])\n",
    "    \n",
    "    \n",
    "X = df[[\"Semestre\", \"Disciplina\", \"Professor\"]]\n",
    "y = df[\"Dia da Semana\"]\n",
    "\n",
    "df.head(30)"
   ]
  },
  {
   "cell_type": "code",
   "execution_count": null,
   "metadata": {},
   "outputs": [],
   "source": [
    "# Dividir dados em treino e teste\n",
    "X_train, X_test, y_train, y_test = train_test_split(X, y, test_size=0.2, random_state=42)\n",
    "\n",
    "# Treinar o modelo RandomForest\n",
    "model = RandomForestClassifier(random_state=42)\n",
    "model.fit(X_train, y_train)\n",
    "\n",
    "# Avaliar o modelo\n",
    "y_pred = model.predict(X_test)\n",
    "accuracy = accuracy_score(y_test, y_pred)\n",
    "print(f\"Acurácia do modelo: {accuracy:.2f}\")"
   ]
  },
  {
   "cell_type": "code",
   "execution_count": null,
   "metadata": {},
   "outputs": [],
   "source": [
    "# Prever o dia da semana para os dados originais\n",
    "df[\"Dia_Previsto\"] = model.predict(X)\n",
    "\n",
    "# Reverter a codificação para obter os nomes originais\n",
    "df[\"Dia_Previsto\"] = encoders[\"Dia da Semana\"].inverse_transform(df[\"Dia_Previsto\"])\n",
    "df[\"Disciplina\"] = encoders[\"Disciplina\"].inverse_transform(df[\"Disciplina\"])\n",
    "df[\"Professor\"] = encoders[\"Professor\"].inverse_transform(df[\"Professor\"])\n",
    "df[\"Semestre\"] = encoders[\"Semestre\"].inverse_transform(df[\"Semestre\"])\n",
    "\n",
    "grade_aulas = df[[\"Semestre\", \"Disciplina\", \"Professor\", \"Dia_Previsto\"]].sort_values(\n",
    "    by=[\"Semestre\", \"Dia_Previsto\"])\n",
    "\n",
    "grade_aulas.head(60)"
   ]
  },
  {
   "cell_type": "code",
   "execution_count": null,
   "metadata": {},
   "outputs": [],
   "source": [
    "dias_ordenados = [\"Segunda-Feira\", \"Terça-Feira\", \"Quarta-Feira\", \"Quinta-Feira\", \"Sexta-Feira\", \"Sábado\"]\n",
    "\n",
    "semestres = grade_aulas[\"Semestre\"].unique()\n",
    "\n",
    "# Criar um dicionário para armazenar os DataFrames por semestre\n",
    "dfs_semestres = {semestre: grade_aulas[grade_aulas[\"Semestre\"] == semestre] for semestre in semestres}\n",
    "\n",
    "dfs_transpostos = {}\n",
    "\n",
    "for semestre, grade_aulas in dfs_semestres.items():\n",
    "    tabela_transposta = grade_aulas.groupby(\"Dia_Previsto\").agg(\n",
    "        {'Disciplina': lambda x: list(set(x)), 'Professor': lambda x: list(set(x))}\n",
    "    )\n",
    "    \n",
    "    # Transpor e ordenar as colunas (dias da semana)\n",
    "    tabela_transposta = tabela_transposta.T\n",
    "    \n",
    "    # Reindexar as colunas para dias da semana\n",
    "    tabela_transposta = tabela_transposta.reindex(columns=dias_ordenados, fill_value=\"\")\n",
    "\n",
    "    dfs_transpostos[semestre] = tabela_transposta\n"
   ]
  },
  {
   "cell_type": "code",
   "execution_count": null,
   "metadata": {},
   "outputs": [],
   "source": [
    "# Salvar as tabelas em um único arquivo Excel\n",
    "output_file = \"tabela_aulas_organizada.xlsx\"\n",
    "\n",
    "with pd.ExcelWriter(output_file) as writer:\n",
    "    for semestre, df_transposto in dfs_transpostos.items():\n",
    "        df_transposto.to_excel(writer, sheet_name=f\"Semestre_{semestre}\")\n",
    "\n",
    "print(f\"Tabelas transpostas salvas em: {output_file}\")\n"
   ]
  }
 ],
 "metadata": {
  "kernelspec": {
   "display_name": ".venv",
   "language": "python",
   "name": "python3"
  },
  "language_info": {
   "codemirror_mode": {
    "name": "ipython",
    "version": 3
   },
   "file_extension": ".py",
   "mimetype": "text/x-python",
   "name": "python",
   "nbconvert_exporter": "python",
   "pygments_lexer": "ipython3",
   "version": "3.10.5"
  }
 },
 "nbformat": 4,
 "nbformat_minor": 2
}
